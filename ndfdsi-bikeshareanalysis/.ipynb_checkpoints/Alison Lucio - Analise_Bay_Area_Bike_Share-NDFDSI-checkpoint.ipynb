{
 "cells": [
  {
   "cell_type": "markdown",
   "metadata": {},
   "source": [
    "# Análise da Bay Area Bike Share\n",
    "\n",
    "## Introdução\n",
    "\n",
    "> **Dica**: Seções citadas como esta fornecerão instruções úteis sobre como navegar e usar um notebook do iPython.\n",
    "\n",
    "[Bay Area Bike Share](http://www.bayareabikeshare.com/) é uma empresa que oferece aluguel de bicicletas on-demand para clientes em San Francisco, Redwood City, Palo Alto, Mountain View e San Jose. Os usuários podem desbloquear bicicletas de uma variedade de estações em cada cidade, e devolvê-las em qualquer estação dentro da mesma cidade. Os usuários pagam o serviço por meio de assinatura anual ou pela compra de passes de 3 dias ou 24 horas. Os usuários podem fazer um número ilimitado de viagens. Viagens com menos de trinta minutos de duração não têm custo adicional; Viagens mais longas incorrem em taxas de horas extras.\n",
    "\n",
    "Neste projeto, você vai se colocar no lugar de um analista de dados realizando uma análise exploratória sobre os dados. Você vai dar uma olhada em duas das principais partes do processo de análise de dados: limpeza de dados e análise exploratória. Mas antes que você comece a olhar os dados, pense algumas perguntas que você pode querer fazer sobre os dados. Considere, por exemplo, se você estivesse trabalhando para Bay Area Bike Share: que tipo de informação você gostaria de saber a fim de tomar decisões de negócios mais inteligentes? Ou você pode pensar se você fosse um usuário do serviço de compartilhamento de bicicletas. Que fatores podem influenciar a maneira como você gostaria de usar o serviço?"
   ]
  },
  {
   "cell_type": "markdown",
   "metadata": {},
   "source": [
    "## Análise Exploratória de Dados \n",
    "\n",
    "Agora que você tem alguns dados salvos em um arquivo, vejamos algumas tendências iniciais nos dados. Algum código já foi escrito para você no script [babs_visualizations.py](babs_visualizations.py) para ajudar a resumir e visualizar os dados; Isso foi importado como as funções `usage_stats()` e `usage_plot()`. Nesta seção, vamos percorrer algumas das coisas que você pode fazer com as funções, e você usará as funções para você mesmo na última parte do projeto. Primeiro, execute a seguinte célula para carregar os dados. Depois preencha a célula abaixo com os comandos para verificar os dados básicos sobre os dados."
   ]
  },
  {
   "cell_type": "code",
   "execution_count": null,
   "metadata": {
    "collapsed": true
   },
   "outputs": [],
   "source": [
    "trip_data = pd.read_csv('201309_trip_summary.csv')"
   ]
  },
  {
   "cell_type": "code",
   "execution_count": null,
   "metadata": {
    "collapsed": true
   },
   "outputs": [],
   "source": [
    "# TODO: preencha os campos com os dados de acordo com o print\n",
    "print('Existem {:d} pontos no conjunto de dados'.format(trip_data['duration'].count()))\n",
    "print('A duração média das viagens foi de {:.2f} minutos'.format(trip_data['duration']\\\n",
    "                                                                 .mean()))\n",
    "print('A mediana das durações das viagens foi de {:.2f} minutos'.format(trip_data['duration']\\\n",
    "                                                                 .median()))\n",
    "\n",
    "# TODO: verificando os quartis\n",
    "duration_qtiles = trip_data['duration'].quantile([.25, .5, .75]).as_matrix()\n",
    "print('25% das viagens foram mais curtas do que {:.2f} minutos'.format(duration_qtiles[0]))\n",
    "print('25% das viagens foram mais compridas do que {:.2f} minutos'.format(duration_qtiles[2]))"
   ]
  },
  {
   "cell_type": "code",
   "execution_count": null,
   "metadata": {
    "collapsed": true
   },
   "outputs": [],
   "source": [
    "# execute este campo para verificar os seu processamento acima.\n",
    "usage_stats(trip_data)"
   ]
  },
  {
   "cell_type": "markdown",
   "metadata": {},
   "source": [
    "Você deve ver que há mais de 27.000 viagens no primeiro mês e que a duração média da viagem é maior do que a duração mediana da viagem (o ponto em que 50% das viagens são mais curtas e 50% são mais longas). Na verdade, a média é maior que as durações de 75% das viagens mais curtas. Isso será interessante para ver mais adiante.\n",
    "\n",
    "Vamos começar a ver como essas viagens são divididas por tipo de inscrição. Uma maneira fácil de construir uma intuição sobre os dados é traçá-los. \n",
    "\n",
    "Lembre-se que o Pandas possui maneiras de plotar os gráficos diretamente de um DataFrame. Para cada tipo de dados/análises se pode usar um tipo diferente de gráfico mais apropriado para a análise que se está fazendo.\n",
    "\n",
    "Na caixa abaixo, faça um gráfico de viagens x tipo de subscrição do tipo barras."
   ]
  },
  {
   "cell_type": "code",
   "execution_count": null,
   "metadata": {
    "collapsed": true
   },
   "outputs": [],
   "source": [
    "trip_data.head(3)"
   ]
  },
  {
   "cell_type": "code",
   "execution_count": null,
   "metadata": {
    "collapsed": true
   },
   "outputs": [],
   "source": [
    "# TODO: plote um gráfico de barras que mostre quantidade de viagens por subscription_type\n",
    "# lembrando que quando o comando .plot é usado, se pode escolher o tipo de gráfico usando \n",
    "# o parâmetro kind. Ex: plot(kind='bar')\n",
    "\n",
    "import matplotlib.pyplot as plt\n",
    "\n",
    "colors = ['red']\n",
    "trip_data['subscription_type'].value_counts().plot(kind='bar', color = colors, alpha=.7)\n",
    "\n",
    "plt.title('Quantidade de viagens por subscription_type')\n",
    "plt.ylabel('Quantidade de viagens')\n",
    "plt.xlabel('Tipo de assinatura')"
   ]
  },
  {
   "cell_type": "markdown",
   "metadata": {},
   "source": [
    "Para que você possa conferir se os seus gráficos estão corretos, usaremos a função `use_plot()`. O segundo argumento da função nos permite contar as viagens em uma variável selecionada, exibindo as informações em um gráfico. A expressão abaixo mostrará como deve ter ficado o seu gráfico acima."
   ]
  },
  {
   "cell_type": "code",
   "execution_count": null,
   "metadata": {
    "collapsed": true
   },
   "outputs": [],
   "source": [
    "# como o seu gráfico deve ficar. Descomente a linha abaixo caso queira rodar este comando\n",
    "usage_plot(trip_data, 'subscription_type')"
   ]
  },
  {
   "cell_type": "markdown",
   "metadata": {},
   "source": [
    ">*Nota*: Perceba que provavelmente o seu gráfico não ficou exatamente igual, principalmente pelo título e pelo nome dos eixos. Lembre-se, estes são detalhes mas fazem toda a diferença quando você for apresentar os gráficos que você analisou. Neste Nanodegree não focaremos nestas questões, mas tenha em mente que ter os gráficos acertados é de extrema importância."
   ]
  },
  {
   "cell_type": "markdown",
   "metadata": {},
   "source": [
    "Parece que existe 50% mais viagens feitas por assinantes (subscribers) no primeiro mês do que outro tipos de consumidores. Vamos tentar uma outra variável. Como é a distribuição da duração das viagens (trip duration)?"
   ]
  },
  {
   "cell_type": "code",
   "execution_count": null,
   "metadata": {
    "collapsed": true
   },
   "outputs": [],
   "source": [
    "# TODO: Faça um gráfico baseado nas durações\n",
    "trip_data['duration'].hist()"
   ]
  },
  {
   "cell_type": "code",
   "execution_count": null,
   "metadata": {
    "collapsed": true
   },
   "outputs": [],
   "source": [
    "# rode este comando abaixo caso esteja em dúvida quanto ao resultado esperado\n",
    "usage_plot(trip_data, 'duration')"
   ]
  },
  {
   "cell_type": "markdown",
   "metadata": {},
   "source": [
    "Parece muito estranho, não é? Dê uma olhada nos valores de duração no eixo x. A maioria dos passeios deve ser de 30 minutos ou menos, uma vez que há taxas de excesso de tempo extra em uma única viagem. A primeira barra abrange durações de até 1000 minutos, ou mais de 16 horas. Com base nas estatísticas que obtivemos do `use_stats()`, deveríamos ter esperado algumas viagens com durações muito longas que levem a média a ser muito superior à mediana: o gráfico mostra isso de forma dramática, mas inútil.\n",
    "\n",
    "Ao explorar os dados, muitas vezes você precisará trabalhar com os parâmetros da função de visualização para facilitar a compreensão dos dados. É aqui que os filtros vão ajudar você. Comecemos por limitar as  viagens de menos de 60 minutos."
   ]
  },
  {
   "cell_type": "code",
   "execution_count": null,
   "metadata": {
    "collapsed": true
   },
   "outputs": [],
   "source": [
    "# TODO: faça um gráfico de barras para os dados com duração inferior a 60 minutos.\n",
    "\n",
    "menor_60_min = 60\n",
    "abaixo_60_min = trip_data.query('duration < @menor_60_min')\n",
    "acima_60_min = trip_data.query('duration >= @menor_60_min')\n",
    "abaixo_60_min['duration'].hist()"
   ]
  },
  {
   "cell_type": "code",
   "execution_count": null,
   "metadata": {
    "collapsed": true
   },
   "outputs": [],
   "source": [
    "# descomente a linha abaixo para verificar o gráfico esperado.\n",
    "usage_plot(trip_data, 'duration', ['duration < 60'])"
   ]
  },
  {
   "cell_type": "markdown",
   "metadata": {},
   "source": [
    "Isso está bem melhor! Você pode ver que a maioria das viagens têm menos de 30 minutos de duração, mas que você pode fazer mais para melhorar a apresentação. Uma vez que a duração mínima não é 0, a barra da esquerda está ligeiramente acima de 0. Nós queremos saber onde existe um limite perto dos 30 minutos, então ficará mais agradável se tivermos tamanhos de intervalos (bin sizes) e limites dos intervalos que correspondam a alguns minutos. \n",
    "\n",
    "Felizmente, o Pandas e o Matplotlib te dão a opção de resolver ester problemas. Uma das maneiras de fazê-lo é definindo qual o intervalo no eixo x (parâmetro range) e quantos intervalos desejamos (bins).\n",
    "\n",
    "No campo abaixo, faça o ajuste do gráfico para que os limites das barras se encontrem nas extremidades e que as barras tenham tamanho 5 (0, 5, 10, 15, etc). Se precisar, use a [documentação](http://matplotlib.org/api/_as_gen/matplotlib.axes.Axes.hist.html#matplotlib.axes.Axes.hist)."
   ]
  },
  {
   "cell_type": "code",
   "execution_count": null,
   "metadata": {
    "collapsed": true
   },
   "outputs": [],
   "source": [
    "# faça o gráfico ajustado que começará no 0 e terá o bin size de 5\n",
    "abaixo_60_min['duration'].hist(bins=[0,5,10,15,20,25,30,35,40,45,50,55,60])"
   ]
  },
  {
   "cell_type": "code",
   "execution_count": null,
   "metadata": {
    "collapsed": true
   },
   "outputs": [],
   "source": [
    "# rode esta linha para verificar como deve ficar o seu gráfico\n",
    "usage_plot(trip_data, 'duration', ['duration < 60'], boundary = 0, bin_width = 5)"
   ]
  },
  {
   "cell_type": "markdown",
   "metadata": {},
   "source": [
    "Pequenos ajustes como este podem ser pequenos mas fazem toda a diferença na entrega de um trabalho de qualidade e com atenção aos detalhes.\n"
   ]
  },
  {
   "cell_type": "markdown",
   "metadata": {},
   "source": [
    "# Pergunta 4\n",
    "\n",
    "Analise o histograma do exercicio anterior e responda:\n",
    "\n",
    "Qual o intervalo de duração com maior quantidade de viagens?\n",
    "\n",
    "\n",
    "**Reposta**: <br/> É o intervalo de 10 minutos."
   ]
  },
  {
   "cell_type": "markdown",
   "metadata": {},
   "source": [
    "# Pergunta 4.1\n",
    "\n",
    "Com base na sua resposta da pergunta anterior, conte quantas viagens existem para cada origem e destino desse intervalo de tempo. Monte uma tabela que demonstre isso. \n",
    "\n",
    "Qual origem e destino tem a maior quantidade de viagens?  Aproximadamente quantas viagens foram feitas nesta faixa de tempo?\n",
    "\n",
    "\n",
    " **Reposta**: <br/> De San Francisco\tpara San Francisco\tcom um total de \n",
    " viagens de 8129 com duração de 5 à 10 minutos."
   ]
  },
  {
   "cell_type": "code",
   "execution_count": null,
   "metadata": {
    "collapsed": true
   },
   "outputs": [],
   "source": [
    "cinco_min = 5\n",
    "dez_min = 10\n",
    "\n",
    "entre_5_a_10_min = trip_data.query('duration >= @cinco_min and duration <= @dez_min')\n",
    "entre_5_a_10_min.drop(['duration','start_date','start_year','start_month','start_hour',\\\n",
    "                      'weekday','subscription_type'],axis=1, inplace=True)\n",
    "entre_5_a_10_min.groupby(['start_city','end_city']).count()"
   ]
  },
  {
   "cell_type": "markdown",
   "metadata": {
    "collapsed": true
   },
   "source": [
    "## Fazendo suas Próprias Análises\n",
    "\n",
    "Agora que você fez alguma exploração em uma pequena amostra do conjunto de dados, é hora de avançar e reunir todos os dados em um único arquivo e ver quais tendências você pode encontrar. O código abaixo usará a mesma função `summarise_data()` para processar dados. Depois de executar a célula abaixo, você terá processado todos os dados em um único arquivo de dados. Observe que a função não exibirá qualquer saída enquanto ele é executado, e isso pode demorar um pouco para ser concluído, pois você tem muito mais dados do que a amostra com a qual você trabalhou."
   ]
  },
  {
   "cell_type": "code",
   "execution_count": null,
   "metadata": {
    "collapsed": true
   },
   "outputs": [],
   "source": [
    "station_data = ['201402_station_data.csv',\n",
    "                '201408_station_data.csv',\n",
    "                '201508_station_data.csv' ]\n",
    "trip_in = ['201402_trip_data.csv',\n",
    "           '201408_trip_data.csv',\n",
    "           '201508_trip_data.csv' ]\n",
    "trip_out = 'babs_y1_y2_summary.csv'\n",
    "\n",
    "# Esta função irá ler as informações das estações e das viagens\n",
    "# e escreverá um arquivo processado com o nome trip_out\n",
    "summarise_data(trip_in, station_data, trip_out)"
   ]
  },
  {
   "cell_type": "markdown",
   "metadata": {},
   "source": [
    "Já que a função `summarise_data()` escreveu um arquivo de saída, a célula acima não precisa ser rodada novamente mesmo que este notebook seja fechado e uma nova sessão seja criada. Você pode simplesmente ler os dados novamente e fazer a exploração deste ponto (não esqueça de executar a parte das funções no começo do notebook caso esteja em uma nova sessão)"
   ]
  },
  {
   "cell_type": "code",
   "execution_count": null,
   "metadata": {
    "collapsed": true
   },
   "outputs": [],
   "source": [
    "trip_data = pd.read_csv('babs_y1_y2_summary.csv')\n",
    "display(trip_data.head())"
   ]
  },
  {
   "cell_type": "markdown",
   "metadata": {},
   "source": [
    "#### Agora é a SUA vez de fazer a exploração do dataset (do conjunto de dados) completo.\n",
    "\n",
    "Aproveite para fazer filtros nos dados e tentar encontrar padrões nos dados."
   ]
  },
  {
   "cell_type": "markdown",
   "metadata": {},
   "source": [
    "Explore algumas variáveis diferentes usando o mesmo racional acima e tome nota de algumas tendências que você encontra. Sinta-se livre para criar células adicionais se quiser explorar o conjunto de dados de outras maneiras ou de várias maneiras.\n",
    "\n",
    "> **Dica**: para adicionar células adicionais a um notebook, você pode usar as opções \"Inserir célula acima\" (Insert Cell Above) e \"Insert Cell Below\" na barra de menu acima. Há também um ícone na barra de ferramentas para adicionar novas células, com ícones adicionais para mover as células para cima e para baixo do documento. Por padrão, as novas células são do tipo de código; Você também pode especificar o tipo de célula (por exemplo, Código ou Markdown) das células selecionadas no menu Cell ou no menu dropdown na barra de ferramentas.\n",
    "\n",
    "Um feito com suas explorações, copie as duas visualizações que você achou mais interessantes nas células abaixo e responda as seguintes perguntas com algumas frases descrevendo o que você encontrou e por que você selecionou os números. Certifique-se de que você ajusta o número de caixas ou os limites da bandeja para que efetivamente transmitam os resultados dos dados. Sinta-se livre para complementar isso com quaisquer números adicionais gerados a partir de `use_stats()` ou coloque visualizações múltiplas para suportar suas observações."
   ]
  },
  {
   "cell_type": "markdown",
   "metadata": {},
   "source": [
    "Para ver alguns outros tipos de gráficos que o matplotlib (padrão do Pandas) possui, leia [este artigo](https://www.labri.fr/perso/nrougier/teaching/matplotlib/#other-types-of-plots). \n",
    "\n",
    "Para entender um pouco mais como e quais gráficos podem ser úteis, leia [este documento](https://www.tableau.com/sites/default/files/media/Whitepapers/which_chart_v6_ptb.pdf). Ele lhe dará um pouco de idéia de como mostrar os dados de forma mais acertada"
   ]
  },
  {
   "cell_type": "markdown",
   "metadata": {},
   "source": [
    "<br/><br/>***Optei por fazer tudo do zero por que assim sei exatamente oque esta acontecendo ***<br/><br/><br/>"
   ]
  },
  {
   "cell_type": "code",
   "execution_count": null,
   "metadata": {
    "collapsed": true
   },
   "outputs": [],
   "source": [
    "# Importa todas as bibliotecas necessárias\n",
    "%matplotlib inline\n",
    "import csv\n",
    "from datetime import datetime\n",
    "import numpy as np\n",
    "import pandas as pd\n",
    "from babs_datacheck import question_3\n",
    "from babs_visualizations import usage_stats, usage_plot\n",
    "from IPython.display import display\n",
    "import seaborn as sns\n",
    "import matplotlib.pyplot as plt"
   ]
  },
  {
   "cell_type": "markdown",
   "metadata": {},
   "source": [
    "***<br/>Vou começar limpando os dados de estações <br/><br/>***"
   ]
  },
  {
   "cell_type": "code",
   "execution_count": null,
   "metadata": {
    "collapsed": true
   },
   "outputs": [],
   "source": [
    "df_station_201402 = pd.read_csv('201402_station_data.csv')\n",
    "df_station_201408 = pd.read_csv('201408_station_data.csv')"
   ]
  },
  {
   "cell_type": "code",
   "execution_count": null,
   "metadata": {
    "collapsed": true
   },
   "outputs": [],
   "source": [
    "len(df_station_201402)"
   ]
  },
  {
   "cell_type": "code",
   "execution_count": null,
   "metadata": {
    "collapsed": true
   },
   "outputs": [],
   "source": [
    "len(df_station_201408)"
   ]
  },
  {
   "cell_type": "code",
   "execution_count": null,
   "metadata": {
    "collapsed": true
   },
   "outputs": [],
   "source": [
    "# já varifiquei os tipos das colunas entre as tabelas e elas batem em tipo e quantidade e não tem valores nulos\n",
    "# então fiz uma concatenação entre elas\n",
    "\n",
    "df_concat_station_201402_201408 = pd.concat([df_station_201402,df_station_201408], ignore_index=True)\n",
    "df_concat_station_201402_201408.head(4)"
   ]
  },
  {
   "cell_type": "code",
   "execution_count": null,
   "metadata": {
    "collapsed": true
   },
   "outputs": [],
   "source": [
    "# mudo o tipo da coluna installation de String para Datetime\n",
    "df_concat_station_201402_201408['installation'] = pd.to_datetime\\\n",
    "(df_concat_station_201402_201408['installation'],format=\"%m/%d/%Y\")"
   ]
  },
  {
   "cell_type": "code",
   "execution_count": null,
   "metadata": {
    "collapsed": true
   },
   "outputs": [],
   "source": [
    "df_concat_station_201402_201408"
   ]
  },
  {
   "cell_type": "code",
   "execution_count": null,
   "metadata": {
    "collapsed": true
   },
   "outputs": [],
   "source": [
    "df_concat_station_201402_201408.duplicated().sum()\n",
    "df_concat_station_201402_201408.drop_duplicates(keep='last',inplace=True)\n",
    "df_concat_station_201402_201408.duplicated().sum()"
   ]
  },
  {
   "cell_type": "code",
   "execution_count": null,
   "metadata": {
    "collapsed": true
   },
   "outputs": [],
   "source": [
    "# salvando um novo arquivo csv de nome 201408_completo_station_data.csv  com a junção das tabelas \n",
    "# 201402_station_data.csv e a 201408_station_data.csv já com a alteração no tipo da coluna installation de string\n",
    "# para datetime\n",
    "\n",
    "df_concat_station_201402_201408.to_csv('201408_completo_station_data.csv')"
   ]
  },
  {
   "cell_type": "code",
   "execution_count": null,
   "metadata": {
    "collapsed": true
   },
   "outputs": [],
   "source": [
    "# este metodo recebe a data que desejo verificar e o arquivo onde quero checar\n",
    "\n",
    "def check_count_date_station(future_date, df_file_station):\n",
    "    mudar = pd.to_datetime(future_date,format='%Y/%m/%d')\n",
    "    count = df_file_station.query('installation < @mudar')\n",
    "    print('Quantidade de datas menores do que {0} = {1}'.format(mudar,len(count)))"
   ]
  },
  {
   "cell_type": "code",
   "execution_count": null,
   "metadata": {
    "collapsed": true
   },
   "outputs": [],
   "source": [
    "# recebe uma linha por vez do dataFrame para checar e modificar a data se necessário\n",
    "\n",
    "def change_date_station_installation(df_line_file_station):    \n",
    "    if df_line_file_station['installation'].year <= 2013:\n",
    "        if df_line_file_station['installation'].month <= 8:\n",
    "            if df_line_file_station['installation'].day < 29:\n",
    "                df_line_file_station['installation'] = line['installation'].replace(year = 2013)\n",
    "                df_line_file_station['installation'] = line['installation'].replace(month = 8)\n",
    "                df_line_file_station['installation'] = line['installation'].replace(day = 29)\n",
    "    return df_line_file_station['installation']"
   ]
  },
  {
   "cell_type": "code",
   "execution_count": null,
   "metadata": {
    "collapsed": true
   },
   "outputs": [],
   "source": [
    "# Faz a alteração na data de instalação das estações destes arquivos para 29/03/2013\n",
    "for index, line in df_concat_station_201402_201408.iterrows():\n",
    "    df_concat_station_201402_201408.set_value(index,'installation',change_date_station_installation(line))"
   ]
  },
  {
   "cell_type": "code",
   "execution_count": null,
   "metadata": {
    "collapsed": true
   },
   "outputs": [],
   "source": [
    "# verificando as alterações\n",
    "va = '2013-8-29'\n",
    "df_concat_station_201402_201408.query('installation < @va')"
   ]
  },
  {
   "cell_type": "code",
   "execution_count": null,
   "metadata": {
    "collapsed": true
   },
   "outputs": [],
   "source": [
    "# Salve no arquivo as ultimas alterações csv\n",
    "df_concat_station_201402_201408.to_csv('201408_completo_station_data.csv')"
   ]
  },
  {
   "cell_type": "code",
   "execution_count": null,
   "metadata": {
    "collapsed": true
   },
   "outputs": [],
   "source": [
    "df_concat_station_201402_201408"
   ]
  },
  {
   "cell_type": "code",
   "execution_count": null,
   "metadata": {
    "collapsed": true
   },
   "outputs": [],
   "source": [
    "# este é o id da estação que muda de nome \n",
    "station_id_80 = 80"
   ]
  },
  {
   "cell_type": "code",
   "execution_count": null,
   "metadata": {
    "collapsed": true
   },
   "outputs": [],
   "source": [
    "# NESTE tem\n",
    "\n",
    "df_concat_station_201402_201408.query('station_id == @station_id_80')"
   ]
  },
  {
   "cell_type": "code",
   "execution_count": null,
   "metadata": {
    "collapsed": true
   },
   "outputs": [],
   "source": [
    "df_concat_station_201402_201408.info()"
   ]
  },
  {
   "cell_type": "code",
   "execution_count": null,
   "metadata": {
    "collapsed": true
   },
   "outputs": [],
   "source": [
    "# informações do arquivo 201508_station.csv\n",
    "df_201502_station.info()"
   ]
  },
  {
   "cell_type": "code",
   "execution_count": null,
   "metadata": {
    "collapsed": true
   },
   "outputs": [],
   "source": [
    "# é preciso mudar os valores de installation para Datetime\n",
    "df_201502_station['installation'] = pd.to_datetime(df_201502_station['installation'],format=\"%m/%d/%Y\")"
   ]
  },
  {
   "cell_type": "code",
   "execution_count": null,
   "metadata": {
    "collapsed": true
   },
   "outputs": [],
   "source": [
    "df_201502_station.info()"
   ]
  },
  {
   "cell_type": "code",
   "execution_count": null,
   "metadata": {
    "collapsed": true
   },
   "outputs": [],
   "source": [
    "# concatenando os dataFrames de df_concat_station_201402_201408 com o df_201502_station e \n",
    "# verificando a estação com id 80\n",
    "\n",
    "df_concat_all_station = pd.concat([df_concat_station_201402_201408, df_201502_station], ignore_index=True)\n",
    "df_concat_all_station.query('station_id == 80')"
   ]
  },
  {
   "cell_type": "code",
   "execution_count": null,
   "metadata": {
    "collapsed": true
   },
   "outputs": [],
   "source": [
    "df_concat_all_station.duplicated().sum()"
   ]
  },
  {
   "cell_type": "code",
   "execution_count": null,
   "metadata": {
    "collapsed": true
   },
   "outputs": [],
   "source": [
    "df_concat_all_station.drop_duplicates(keep='last',inplace=True)\n",
    "df_concat_all_station.duplicated().sum()"
   ]
  },
  {
   "cell_type": "code",
   "execution_count": null,
   "metadata": {
    "collapsed": true
   },
   "outputs": [],
   "source": [
    "df_concat_all_station"
   ]
  },
  {
   "cell_type": "code",
   "execution_count": null,
   "metadata": {
    "collapsed": true
   },
   "outputs": [],
   "source": [
    "# salvando um arquivo com todos os arquivos referentes a stations e suas mudanças\n",
    "df_concat_all_station.to_csv('complete_station_data.csv')"
   ]
  },
  {
   "cell_type": "markdown",
   "metadata": {},
   "source": [
    "***<br/>Agora vou trabalhar com dados de Clima<br/><br/>***"
   ]
  },
  {
   "cell_type": "code",
   "execution_count": null,
   "metadata": {
    "collapsed": true
   },
   "outputs": [],
   "source": [
    "# a primeira vez que rodar vai aparecer muitos valores nulos, mais a frente vou modificar esses arquivos\n",
    "# retirando os nulos\n",
    "df_201402_weather = pd.read_csv('201402_weather_data.csv')\n",
    "df_201408_weather = pd.read_csv('201408_weather_data.csv')\n",
    "df_201508_weather = pd.read_csv('201508_weather_data.csv')"
   ]
  },
  {
   "cell_type": "code",
   "execution_count": null,
   "metadata": {
    "collapsed": true
   },
   "outputs": [],
   "source": [
    "df_201402_weather.head(2)"
   ]
  },
  {
   "cell_type": "code",
   "execution_count": null,
   "metadata": {
    "collapsed": true
   },
   "outputs": [],
   "source": [
    "# retirar valores nulos de 201402_weather_date.csv\n",
    "df_201402_weather['Max_Gust_Speed_MPH'].fillna(df_201402_weather['Max_Gust_Speed_MPH'].mean(),inplace=True)\n",
    "df_201402_weather.drop(['Unnamed: 0'],axis=1,inplace=True)\n",
    "print(df_201402_weather.isnull().sum())\n",
    "print(df_201402_weather.duplicated().sum())"
   ]
  },
  {
   "cell_type": "code",
   "execution_count": null,
   "metadata": {
    "collapsed": true
   },
   "outputs": [],
   "source": [
    "# verificar quantos valores nulos o arquivo 201508_weather_data.csv tem\n",
    "print(df_201508_weather.isnull().sum())\n",
    "df_201508_weather.drop(['Unnamed: 0'],axis=1, inplace=True)\n",
    "print(df_201508_weather.isnull().sum(),'\\n')"
   ]
  },
  {
   "cell_type": "code",
   "execution_count": null,
   "metadata": {
    "collapsed": true
   },
   "outputs": [],
   "source": [
    "# existiam muitos valores nulos acima, agora esta zerado por que rodei os scripts depois que \n",
    "# tirei os valores nulos\n",
    "# retirar os valores nulos do arquivo 201508_weather_data.csv\n",
    "df_201508_weather['Max TemperatureF'].fillna(df_201508_weather['Max TemperatureF'].mean(), inplace=True)\n",
    "df_201508_weather['Mean TemperatureF'].fillna(df_201508_weather['Mean TemperatureF'].mean(), inplace=True)\n",
    "df_201508_weather['Min TemperatureF'].fillna(df_201508_weather['Min TemperatureF'].mean(), inplace=True)\n",
    "df_201508_weather['Max Dew PointF'].fillna(df_201508_weather['Max Dew PointF'].mean(), inplace=True)\n",
    "df_201508_weather['MeanDew PointF'].fillna(df_201508_weather['MeanDew PointF'].mean(), inplace=True)\n",
    "df_201508_weather['Min DewpointF'].fillna(df_201508_weather['Min DewpointF'].mean(), inplace=True)\n",
    "df_201508_weather['Max Humidity'].fillna(df_201508_weather['Max Humidity'].mean(), inplace=True)\n",
    "df_201508_weather[' Mean Humidity'].fillna(df_201508_weather[' Mean Humidity'].mean(), inplace=True)\n",
    "df_201508_weather[' Min Humidity'].fillna(df_201508_weather[' Min Humidity'].mean(), inplace=True)\n",
    "df_201508_weather[' Max Sea Level PressureIn'].fillna(df_201508_weather[' Max Sea Level PressureIn'].mean(), inplace=True)\n",
    "df_201508_weather[' Mean Sea Level PressureIn'].fillna(df_201508_weather[' Mean Sea Level PressureIn'].mean(), inplace=True)\n",
    "df_201508_weather[' Min Sea Level PressureIn'].fillna(df_201508_weather[' Min Sea Level PressureIn'].mean(), inplace=True)\n",
    "df_201508_weather[' Max VisibilityMiles'].fillna(df_201508_weather[' Max VisibilityMiles'].mean(), inplace=True)\n",
    "df_201508_weather[' Mean VisibilityMiles'].fillna(df_201508_weather[' Mean VisibilityMiles'].mean(), inplace=True)\n",
    "df_201508_weather[' Min VisibilityMiles'].fillna(df_201508_weather[' Min VisibilityMiles'].mean(), inplace=True)\n",
    "df_201508_weather[' Max Wind SpeedMPH'].fillna(df_201508_weather[' Max Wind SpeedMPH'].mean(), inplace=True)\n",
    "df_201508_weather[' Mean Wind SpeedMPH'].fillna(df_201508_weather[' Mean Wind SpeedMPH'].mean(), inplace=True)\n",
    "df_201508_weather[' Max Gust SpeedMPH'].fillna(df_201508_weather[' Max Gust SpeedMPH'].mean(), inplace=True)\n",
    "#df_201508_weather['PrecipitationIn'].fillna(df_201508_weather['PrecipitationIn'].mean(), inplace=True)\n",
    "df_201508_weather[' CloudCover'].fillna(df_201508_weather[' CloudCover'].mean(), inplace=True)\n",
    "df_201508_weather[' WindDirDegrees'].fillna(df_201508_weather[' WindDirDegrees'].mean(), inplace=True)\n",
    "df_201508_weather.isnull().sum()"
   ]
  },
  {
   "cell_type": "code",
   "execution_count": null,
   "metadata": {
    "collapsed": true
   },
   "outputs": [],
   "source": [
    "df_201408_weather.isnull().sum()"
   ]
  },
  {
   "cell_type": "code",
   "execution_count": null,
   "metadata": {
    "collapsed": true
   },
   "outputs": [],
   "source": [
    "df_201408_weather.drop(['Unnamed: 0'],axis=1,inplace=True)\n",
    "df_201408_weather"
   ]
  },
  {
   "cell_type": "code",
   "execution_count": null,
   "metadata": {
    "collapsed": true,
    "scrolled": true
   },
   "outputs": [],
   "source": [
    "# retira os valores nulos de 201408_weather_date.csv\n",
    "df_201408_weather['Max Dew PointF'].fillna(df_201408_weather['Max Dew PointF'].mean(),inplace=True)\n",
    "df_201408_weather['MeanDew PointF'].fillna(df_201408_weather['MeanDew PointF'].mean(),inplace=True)\n",
    "df_201408_weather['Min DewpointF'].fillna(df_201408_weather['Min DewpointF'].mean(),inplace=True)\n",
    "df_201408_weather['Max Humidity'].fillna(df_201408_weather['Max Humidity'].mean(),inplace=True)\n",
    "df_201408_weather[' Mean Humidity'].fillna(df_201408_weather[' Mean Humidity'].mean(),inplace=True)\n",
    "df_201408_weather[' Min Humidity'].fillna(df_201408_weather[' Min Humidity'].mean(),inplace=True)\n",
    "df_201408_weather[' Max VisibilityMiles'].fillna(df_201408_weather[' Max VisibilityMiles'].mean(),inplace=True)\n",
    "df_201408_weather[' Mean VisibilityMiles'].fillna(df_201408_weather[' Mean VisibilityMiles'].mean(),inplace=True)\n",
    "df_201408_weather[' Min VisibilityMiles'].fillna(df_201408_weather[' Min VisibilityMiles'].mean(),inplace=True)\n",
    "df_201408_weather[' Max Gust SpeedMPH'].fillna(df_201408_weather[' Max Gust SpeedMPH'].mean(),inplace=True)\n",
    "df_201408_weather.drop(['Unnamed: 0','Unnamed: 0.1'],axis=1,inplace=True)\n",
    "\n",
    "df_201408_weather.to_csv('201408_weather_data.csv')\n",
    "\n",
    "df_201408_weather.isnull().sum()"
   ]
  },
  {
   "cell_type": "code",
   "execution_count": null,
   "metadata": {
    "collapsed": true
   },
   "outputs": [],
   "source": [
    "# verificar valores nulos do arquivo 201402, Já havia limpado ele anteriormente\n",
    "df_201402_weather.isnull().sum()"
   ]
  },
  {
   "cell_type": "code",
   "execution_count": null,
   "metadata": {
    "collapsed": true
   },
   "outputs": [],
   "source": []
  },
  {
   "cell_type": "code",
   "execution_count": null,
   "metadata": {
    "collapsed": true
   },
   "outputs": [],
   "source": [
    "# é preciso guardar as mudanças nos arquivos\n",
    "df_201402_weather.to_csv('201402_weather_data.csv')\n",
    "df_201408_weather.to_csv('201408_weather_data.csv')\n",
    "df_201508_weather.to_csv('201508_weather_data.csv')"
   ]
  },
  {
   "cell_type": "code",
   "execution_count": null,
   "metadata": {
    "collapsed": true
   },
   "outputs": [],
   "source": [
    "# existem diferenças entre os nomes de colunas e seus tipos, acho mais facil criar um novo arquivo \n",
    "# com tudo que tem direito e do jeito certo\n",
    "# esse método deve receber dois parametros:\n",
    "\n",
    "# --- uma lista de arquivos referentes ao clima;\n",
    "# --- o nome do arquivo que desejo criar\n",
    "\n",
    "def create_new_file_weather(list_file_weather,name_file_out):\n",
    "    with open(name_file_out,'w') as f_out:\n",
    "        out_colnames = ['date','max_temperature_f','mean_temperature_f','min_temperature_f',\\\n",
    "                        'max_dew_point_f','mean_dew_point_f','min_dew_point_f','max_humidity',\\\n",
    "                        'mean_humidity','min_humidity','max_sea_level_pressure_in',\\\n",
    "                        'mean_sea_level_pressure_in','min_sea_level_pressure_in','max_visibility_miles',\\\n",
    "                        'mean_visibility_miles','min_visibility_miles','max_wind_speed_mph',\\\n",
    "                        'mean_wind_speed_mph','max_gust_speed_mph','precipitation_in','cloud_cover',\\\n",
    "                        'weather_events','wind_dir_degrees','zip_code']\n",
    "        \n",
    "        weather_write = csv.DictWriter(f_out, fieldnames=out_colnames)\n",
    "        weather_write.writeheader()\n",
    "        \n",
    "        # percorre a lista de arquivos \n",
    "        for data_file in list_file_weather:\n",
    "            with open(data_file,'r') as f_in:\n",
    "                weather_reader = csv.DictReader(f_in)\n",
    "                \n",
    "                for line in weather_reader:\n",
    "                    new_line = {}\n",
    "                    \n",
    "                    if 'PDT' in line:\n",
    "                        new_line['date'] = datetime.strptime(line['PDT'],'%m/%d/%Y')\n",
    "                    else:\n",
    "                        new_line['date'] = datetime.strptime(line['Date'],'%m/%d/%Y')\n",
    "                    \n",
    "                    if 'Max TemperatureF' in line:\n",
    "                        new_line['max_temperature_f'] = float(line['Max TemperatureF'])\n",
    "                    else:\n",
    "                        new_line['max_temperature_f'] = float(line['Max_Temperature_F'])\n",
    "                    \n",
    "                    if 'Mean TemperatureF' in line:\n",
    "                        new_line['mean_temperature_f'] = float(line['Mean TemperatureF'])\n",
    "                    else:\n",
    "                        new_line['mean_temperature_f'] = float(line['Mean_Temperature_F'])\n",
    "                    \n",
    "                    if 'Min TemperatureF' in line:                        \n",
    "                        new_line['min_temperature_f'] = float(line['Min TemperatureF'])\n",
    "                    else:\n",
    "                        new_line['min_temperature_f'] = float(line['Min_TemperatureF'])\n",
    "                    \n",
    "                    if 'Max Dew PointF' in line:\n",
    "                        new_line['max_dew_point_f'] = float(line['Max Dew PointF'])\n",
    "                    else:\n",
    "                        new_line['max_dew_point_f'] = float(line['Max_Dew_Point_F'])\n",
    "                        \n",
    "                    if 'Min DewpointF' in line:\n",
    "                        new_line['mean_dew_point_f'] = float(line['Min DewpointF'])\n",
    "                    else:\n",
    "                        new_line['mean_dew_point_f'] = float(line['Min_Dewpoint_F'])\n",
    "                    \n",
    "                    if 'Max Humidity' in line: \n",
    "                        new_line['max_humidity'] = float(line['Max Humidity'])\n",
    "                    else:\n",
    "                        new_line['max_humidity'] = float(line['Max_Humidity'])\n",
    "                        \n",
    "                    # Ei lembre-se que espaço também é caracter e ele também conta como parte da string\n",
    "                    if ' Mean Humidity' in line:\n",
    "                        new_line['mean_humidity'] = float(line[' Mean Humidity'])\n",
    "                    else:\n",
    "                        new_line['mean_humidity'] = float(line['Mean_Humidity '])\n",
    "                    \n",
    "                    # Ei lembre-se que espaço também é caracter e ele também conta como parte da string\n",
    "                    if ' Min Humidity' in line:\n",
    "                        new_line['min_humidity'] = float(line[' Min Humidity'])\n",
    "                    else:\n",
    "                        new_line['min_humidity'] = float(line['Min_Humidity '])\n",
    "                    \n",
    "                    # Ei lembre-se que espaço também é caracter e ele também conta como parte da string\n",
    "                    if ' Max Sea Level PressureIn' in line:\n",
    "                        new_line['max_sea_level_pressure_in'] = float(line[' Max Sea Level PressureIn'])\n",
    "                    else:\n",
    "                        new_line['max_sea_level_pressure_in'] = float(line['Max_Sea_Level_Pressure_In '])\n",
    "                    \n",
    "                    # Ei lembre-se que espaço também é caracter e ele também conta como parte da string\n",
    "                    if ' Mean Sea Level PressureIn' in line:\n",
    "                        new_line['mean_sea_level_pressure_in'] = float(line[' Mean Sea Level PressureIn'])\n",
    "                    else:\n",
    "                        new_line['mean_sea_level_pressure_in'] = float(line['Mean_Sea_Level_Pressure_In '])\n",
    "                    \n",
    "                    # Ei lembre-se que espaço também é caracter e ele também conta como parte da string\n",
    "                    if ' Min Sea Level PressureIn' in line:\n",
    "                        new_line['min_sea_level_pressure_in'] = float(line[' Min Sea Level PressureIn'])\n",
    "                    else:\n",
    "                        new_line['min_sea_level_pressure_in'] = float(line['Min_Sea_Level_Pressure_In '])\n",
    "                        \n",
    "                    # Ei lembre-se que espaço também é caracter e ele também conta como parte da string\n",
    "                    if ' Max VisibilityMiles' in line:\n",
    "                        new_line['max_visibility_miles'] = float(line[' Max VisibilityMiles'])\n",
    "                    else:\n",
    "                        new_line['max_visibility_miles'] = float(line['Max_Visibility_Miles '])\n",
    "                    \n",
    "                    # Ei lembre-se que espaço também é caracter e ele também conta como parte da string\n",
    "                    if ' Mean VisibilityMiles' in line:\n",
    "                        new_line['mean_visibility_miles'] = float(line[' Mean VisibilityMiles'])\n",
    "                    else:\n",
    "                        new_line['mean_visibility_miles'] = float(line['Mean_Visibility_Miles '])\n",
    "                    \n",
    "                    # Ei lembre-se que espaço também é caracter e ele também conta como parte da string\n",
    "                    if ' Min VisibilityMiles' in line:\n",
    "                        new_line['min_visibility_miles'] = float(line[' Min VisibilityMiles'])\n",
    "                    else:\n",
    "                        new_line['min_visibility_miles'] = float(line['Min_Visibility_Miles '])\n",
    "                    \n",
    "                    # Ei lembre-se que espaço também é caracter e ele também conta como parte da string\n",
    "                    if ' Max Wind SpeedMPH' in line:\n",
    "                        new_line['max_wind_speed_mph'] = float(line[' Max Wind SpeedMPH'])\n",
    "                    else:\n",
    "                        new_line['max_wind_speed_mph'] = float(line['Max_Wind_Speed_MPH '])\n",
    "                    \n",
    "                    # Ei lembre-se que espaço também é caracter e ele também conta como parte da string\n",
    "                    if ' Mean Wind SpeedMPH' in line:\n",
    "                        new_line['mean_wind_speed_mph'] = float(line[' Mean Wind SpeedMPH'])\n",
    "                    else:\n",
    "                        new_line['mean_wind_speed_mph'] = float(line['Mean_Wind_Speed_MPH '])\n",
    "                          \n",
    "                    if ' Max Gust SpeedMPH' in line:\n",
    "                        new_line['max_gust_speed_mph'] = float(line[' Max Gust SpeedMPH'])\n",
    "                    else:\n",
    "                        new_line['max_gust_speed_mph'] = float(line['Max_Gust_Speed_MPH'])\n",
    "                    \n",
    "                    if 'PrecipitationIn' in line:\n",
    "                        if line['PrecipitationIn'] == 'T':\n",
    "                            new_line['precipitation_in'] = float(0.001)\n",
    "                        else:\n",
    "                            new_line['precipitation_in'] = float(line['PrecipitationIn']\\\n",
    "                                                                 .replace(\",\",\".\").replace(\":\",\".\")\\\n",
    "                                                                 .replace(\":\",\".\")\\\n",
    "                                                                 .replace(\"\",\"0\").strip())\n",
    "                            \n",
    "                    elif 'Precipitation_In ' in line:\n",
    "                        if line['Precipitation_In '] == 'T':\n",
    "                            new_line['precipitation_in'] = float(0.001)\n",
    "                        else:\n",
    "                            new_line['precipitation_in'] = float(line['Precipitation_In '])\n",
    "                            \n",
    "                    if 'Cloud_Cover ' in line:\n",
    "                        new_line['cloud_cover'] = float(line['Cloud_Cover '])\n",
    "                    elif ' CloudCover ' in line:\n",
    "                        new_line['cloud_cover'] = float(line[' CloudCover '])\n",
    "                    elif ' CloudCover' in line:\n",
    "                        new_line['cloud_cover'] = float(line[' CloudCover'])\n",
    "                    else:\n",
    "                        new_line['cloud_cover'] = float(line['CloudCover'])\n",
    "                    \n",
    "                    if 'Events' in line:\n",
    "                        new_line['weather_events'] = line['Events']\n",
    "                    elif ' Events' in line:\n",
    "                        new_line['weather_events'] = line[' Events']\n",
    "                    else:\n",
    "                        new_line['weather_events'] = line['Events ']\n",
    "                    \n",
    "                    if 'WindDirDegrees' in line:\n",
    "                        new_line['wind_dir_degrees'] = line['WindDirDegrees']\n",
    "                    \n",
    "                    elif ' WindDirDegrees' in line:\n",
    "                        new_line['wind_dir_degrees'] = line[' WindDirDegrees']\n",
    "                    \n",
    "                    elif 'WindDirDegrees ' in line:\n",
    "                        new_line['wind_dir_degrees'] = line['WindDirDegrees ']\n",
    "                    \n",
    "                    else:\n",
    "                        new_line['wind_dir_degrees'] = line['Wind_Dir_Degrees']\n",
    "                    \n",
    "                    if 'Zip' in line:\n",
    "                        new_line['zip_code'] = str(line['Zip'])\n",
    "                    else:\n",
    "                        new_line['zip_code'] = str(line['zip'])\n",
    "                    \n",
    "                    weather_write.writerow(new_line)"
   ]
  },
  {
   "cell_type": "code",
   "execution_count": null,
   "metadata": {
    "collapsed": true
   },
   "outputs": [],
   "source": [
    "# processar a função acima e criar um arquivo para guardar os valores\n",
    "list_weather = ['201402_weather_data.csv', '201408_weather_data.csv','201508_weather_data.csv']\n",
    "create_new_file_weather(list_weather,'complete_weather_data.csv')"
   ]
  },
  {
   "cell_type": "code",
   "execution_count": null,
   "metadata": {
    "collapsed": true
   },
   "outputs": [],
   "source": [
    "# verificar duplicatas\n",
    "teste_weather = pd.read_csv('complete_weather_data.csv')\n",
    "teste_weather.duplicated().sum()"
   ]
  },
  {
   "cell_type": "markdown",
   "metadata": {},
   "source": [
    "***<br/> Agora vou trabalhar com os arquivos de viagens 'trip' *** <br/><br/>"
   ]
  },
  {
   "cell_type": "code",
   "execution_count": null,
   "metadata": {
    "collapsed": true
   },
   "outputs": [],
   "source": [
    "df_201402_trip_data = pd.read_csv('201402_trip_data.csv')\n",
    "df_201408_trip_data = pd.read_csv('201408_trip_data.csv')\n",
    "df_201508_trip_data = pd.read_csv('201508_trip_data.csv')\n",
    "                                  "
   ]
  },
  {
   "cell_type": "code",
   "execution_count": null,
   "metadata": {
    "collapsed": true
   },
   "outputs": [],
   "source": [
    "df_201402_trip_data.info()"
   ]
  },
  {
   "cell_type": "code",
   "execution_count": null,
   "metadata": {
    "collapsed": true
   },
   "outputs": [],
   "source": [
    "df_201408_trip_data.info()"
   ]
  },
  {
   "cell_type": "code",
   "execution_count": null,
   "metadata": {
    "collapsed": true
   },
   "outputs": [],
   "source": [
    "df_201508_trip_data.info()"
   ]
  },
  {
   "cell_type": "code",
   "execution_count": null,
   "metadata": {
    "collapsed": true
   },
   "outputs": [],
   "source": [
    "# criar um método que vai receber uma lista de arquivos de trip e o nome do novo arquivo \n",
    "# que será criado\n",
    "\n",
    "def create_new_file_trip(list_file_trip, name_new_file):\n",
    "    with open(name_new_file,'w') as f_out:\n",
    "        out_colnames = ['trip_id','duration','start_date','start_station','start_terminal','end_date',\\\n",
    "                       'end_station','end_terminal','bike_#','subscriber_type','zip_code_subscriber']\n",
    "        \n",
    "        trip_write = csv.DictWriter(f_out, fieldnames=out_colnames)\n",
    "        trip_write.writeheader()\n",
    "        \n",
    "        for data_file in list_file_trip:\n",
    "            with open(data_file,'r') as f_in:\n",
    "                trip_reader = csv.DictReader(f_in)\n",
    "                \n",
    "                for line in trip_reader:  \n",
    "                    new_line = {}\n",
    "                    \n",
    "                    if 'Trip ID' in line:\n",
    "                        new_line['trip_id'] = line['Trip ID']\n",
    "                    \n",
    "                    if 'Duration' in line:\n",
    "                        new_line['duration'] = float(line['Duration']) / 60\n",
    "                    \n",
    "                    if 'Start Date' in line:\n",
    "                        new_line['start_date'] = datetime.strptime(line['Start Date'],'%m/%d/%Y %H:%M')\n",
    "                        \n",
    "                    if 'End Date' in line:\n",
    "                        new_line['end_date'] = datetime.strptime(line['End Date'],'%m/%d/%Y %H:%M')\n",
    "                        \n",
    "                    if 'Start Station' in line:\n",
    "                        new_line['start_station'] = line['Start Station']\n",
    "                        \n",
    "                    if 'End Station' in line:\n",
    "                        new_line['end_station'] = line['End Station']\n",
    "                    \n",
    "                    if 'Start Terminal' in line:\n",
    "                        new_line['start_terminal'] = line['Start Terminal']\n",
    "                        \n",
    "                    if 'End Terminal' in line:\n",
    "                        new_line['end_terminal'] = line['End Terminal']\n",
    "                        \n",
    "                    if 'Bike #' in line:\n",
    "                        new_line['bike_#'] = line['Bike #']\n",
    "                    \n",
    "                    if 'Subscriber Type' in line:\n",
    "                        new_line['subscriber_type'] = line['Subscriber Type']\n",
    "                    elif 'Subscription Type' in line:\n",
    "                        new_line['subscriber_type'] = line['Subscription Type']\n",
    "                        \n",
    "                    if 'Zip Code' in line:\n",
    "                        new_line['zip_code_subscriber'] = line['Zip Code']\n",
    "                        \n",
    "                    trip_write.writerow(new_line)"
   ]
  },
  {
   "cell_type": "code",
   "execution_count": null,
   "metadata": {
    "collapsed": true
   },
   "outputs": [],
   "source": [
    "# crio a lista de arquivos de viagens e o nome do arquivo que quero que seja criado\n",
    "lista_trip = ['201402_trip_data.csv','201408_trip_data.csv','201508_trip_data.csv']\n",
    "nome_novo_arquivo = 'complete_trip_data.csv'"
   ]
  },
  {
   "cell_type": "code",
   "execution_count": null,
   "metadata": {
    "collapsed": true
   },
   "outputs": [],
   "source": [
    "# Usa a função acima para criar um arquivo que contem todos os dados referentes a viagens \n",
    "\n",
    "df_complete_trip_data = create_new_file_trip(lista_trip,nome_novo_arquivo)"
   ]
  },
  {
   "cell_type": "code",
   "execution_count": null,
   "metadata": {
    "collapsed": true
   },
   "outputs": [],
   "source": [
    "# verificando o novo arquivo\n",
    "df_complete_trip_data = pd.read_csv('complete_trip_data.csv')\n",
    "df_complete_trip_data"
   ]
  },
  {
   "cell_type": "code",
   "execution_count": null,
   "metadata": {
    "collapsed": true
   },
   "outputs": [],
   "source": [
    "df_complete_trip_data.duplicated().sum()"
   ]
  },
  {
   "cell_type": "code",
   "execution_count": null,
   "metadata": {
    "collapsed": true
   },
   "outputs": [],
   "source": [
    "# os valores nulos nele é referente a coluna de cep do assinante, \n",
    "# que é normal que tenha um monte pois os clientes não assinantes não cadastram cep\n",
    "df_complete_trip_data.isnull().sum()"
   ]
  },
  {
   "cell_type": "markdown",
   "metadata": {},
   "source": [
    "***<br/> Agora tenho que unir os arquivos completos de viagens, estações e clima<br/><br/>***"
   ]
  },
  {
   "cell_type": "code",
   "execution_count": null,
   "metadata": {
    "collapsed": true
   },
   "outputs": [],
   "source": [
    "# buscando os tres arquivos completos\n",
    "\n",
    "df_complete_trip_data = pd.read_csv('complete_trip_data.csv')\n",
    "df_complete_station_data = pd.read_csv('complete_station_data.csv')\n",
    "df_complete_weather_data = pd.read_csv('complete_weather_data.csv')"
   ]
  },
  {
   "cell_type": "code",
   "execution_count": null,
   "metadata": {
    "collapsed": true
   },
   "outputs": [],
   "source": [
    "df_complete_station_data.info()"
   ]
  },
  {
   "cell_type": "code",
   "execution_count": null,
   "metadata": {
    "collapsed": true
   },
   "outputs": [],
   "source": [
    "# não sei por que mas já havia mudado a coluna installation de string para date, mas agora esta string,\n",
    "# vou alterar\n",
    "df_complete_station_data['installation'] = pd.to_datetime(df_complete_station_data['installation'],\\\n",
    "                                                          format=\"%Y/%m/%d\")"
   ]
  },
  {
   "cell_type": "code",
   "execution_count": null,
   "metadata": {
    "collapsed": true
   },
   "outputs": [],
   "source": [
    "df_complete_station_data.drop(['Unnamed: 0'],axis=1,inplace=True)\n",
    "df_complete_station_data.info()"
   ]
  },
  {
   "cell_type": "code",
   "execution_count": null,
   "metadata": {
    "collapsed": true
   },
   "outputs": [],
   "source": [
    "df_complete_station_data.info()"
   ]
  },
  {
   "cell_type": "code",
   "execution_count": null,
   "metadata": {
    "collapsed": true
   },
   "outputs": [],
   "source": [
    "df_complete_weather_data.info()"
   ]
  },
  {
   "cell_type": "code",
   "execution_count": null,
   "metadata": {
    "collapsed": true
   },
   "outputs": [],
   "source": [
    "df_complete_trip_data.info()"
   ]
  },
  {
   "cell_type": "code",
   "execution_count": null,
   "metadata": {
    "collapsed": true
   },
   "outputs": [],
   "source": [
    "df_complete_trip_data"
   ]
  },
  {
   "cell_type": "code",
   "execution_count": null,
   "metadata": {
    "collapsed": true
   },
   "outputs": [],
   "source": [
    "# para juntar viagens com clima vou usar a data como campo em comum para o merge\n",
    "# e esse arquivo vou chamar de trip_weather_date.csv\n",
    "# mas antes preciso alterar as colunas para date\n",
    "\n",
    "df_complete_trip_data['start_date'] = pd.to_datetime(df_complete_trip_data['start_date'],\\\n",
    "                                                          format=\"%Y/%m/%d %H:%M\")\n",
    "df_complete_trip_data['end_date'] = pd.to_datetime(df_complete_trip_data['end_date'],\\\n",
    "                                                          format=\"%Y/%m/%d %H:%M\")\n",
    "df_complete_weather_data['date'] = pd.to_datetime(df_complete_weather_date['date'],\\\n",
    "                                                          format=\"%Y/%m/%d %H:%M\")\n",
    "df_complete_weather_data"
   ]
  },
  {
   "cell_type": "code",
   "execution_count": null,
   "metadata": {
    "collapsed": true
   },
   "outputs": [],
   "source": [
    "print(\"tamanho weather = \",len(df_complete_weather_data))\n",
    "print(\"tamanho station = \",len(df_complete_station_data))\n",
    "print(\"tamanho trip = \",len(df_complete_trip_data))\n",
    "print(\"Com o uso do inner não deve haver grandes mudanças no valor\")"
   ]
  },
  {
   "cell_type": "code",
   "execution_count": null,
   "metadata": {
    "collapsed": true
   },
   "outputs": [],
   "source": [
    "# estou fazendo o merge entre os dataFrames, mas a duvida é será que o left é a melhor escolha\n",
    "\n",
    "df_merge_trip_weather_data = df_complete_trip_data.merge(df_complete_weather_data,\\\n",
    "                                                         left_on='start_date', right_on='date', how='left')\n",
    "print(len(df_merge_trip_weather_data))"
   ]
  },
  {
   "cell_type": "code",
   "execution_count": null,
   "metadata": {
    "collapsed": true
   },
   "outputs": [],
   "source": [
    "print(\"tamanho weather = \",len(df_complete_weather_data))\n",
    "print(\"tamanho station = \",len(df_complete_station_data))\n",
    "print(\"tamanho trip = \",len(df_complete_trip_data))\n",
    "print(\"tamanho merge trip com weather = \",len(df_merge_trip_weather_data))\n",
    "print(\"Com o uso do inner não deve haver grandes mudanças no valor\")"
   ]
  },
  {
   "cell_type": "code",
   "execution_count": null,
   "metadata": {
    "collapsed": true
   },
   "outputs": [],
   "source": [
    "# agora vou fazer o merge entre o dataFrame de cima com o de estações\n",
    "# vou usar a coluna start_terminal de trip com o de station_id de station\n",
    "\n",
    "df_merge_all_tables_complete = df_merge_trip_weather_data.merge(df_complete_station_data,\\\n",
    "                                                                left_on='start_terminal',\\\n",
    "                                                                right_on='station_id',how='inner')\n",
    "df_merge_all_tables_complete"
   ]
  },
  {
   "cell_type": "code",
   "execution_count": null,
   "metadata": {
    "collapsed": true
   },
   "outputs": [],
   "source": [
    "print(\"tamanho weather = \",len(df_complete_weather_data))\n",
    "print(\"tamanho station = \",len(df_complete_station_data))\n",
    "print(\"tamanho trip = \",len(df_complete_trip_data))\n",
    "print(\"tamanho merge trip com weather = \",len(df_merge_trip_weather_data))\n",
    "print(\"tamanho merge completo = \",len(df_merge_all_tables_complete))\n",
    "print(\"Com o uso do inner não deve haver grandes mudanças no valor\")"
   ]
  },
  {
   "cell_type": "code",
   "execution_count": null,
   "metadata": {
    "collapsed": true
   },
   "outputs": [],
   "source": [
    "df_merge_all_tables_complete.info()"
   ]
  },
  {
   "cell_type": "code",
   "execution_count": null,
   "metadata": {
    "collapsed": true
   },
   "outputs": [],
   "source": [
    "df_merge_all_tables_complete.isnull().sum()"
   ]
  },
  {
   "cell_type": "code",
   "execution_count": null,
   "metadata": {
    "collapsed": true
   },
   "outputs": [],
   "source": [
    "df_merge_all_tables_complete['max_temperature_f'].fillna(df_merge_all_tables_complete['max_temperature_f'].mean(), inplace=True)\n",
    "df_merge_all_tables_complete['mean_temperature_f'].fillna(df_merge_all_tables_complete['mean_temperature_f'].mean(), inplace=True)\n",
    "df_merge_all_tables_complete['min_temperature_f'].fillna(df_merge_all_tables_complete['min_temperature_f'].mean(), inplace=True)\n",
    "df_merge_all_tables_complete['max_dew_point_f'].fillna(df_merge_all_tables_complete['max_dew_point_f'].mean(), inplace=True)\n",
    "df_merge_all_tables_complete['mean_dew_point_f'].fillna(df_merge_all_tables_complete['mean_dew_point_f'].mean(), inplace=True)\n",
    "df_merge_all_tables_complete['min_dew_point_f'].fillna(df_merge_all_tables_complete['min_dew_point_f'].mean(), inplace=True)\n",
    "df_merge_all_tables_complete['max_humidity'].fillna(df_merge_all_tables_complete['max_humidity'].mean(), inplace=True)\n",
    "df_merge_all_tables_complete['mean_humidity'].fillna(df_merge_all_tables_complete['mean_humidity'].mean(), inplace=True)\n",
    "df_merge_all_tables_complete['min_humidity'].fillna(df_merge_all_tables_complete['min_humidity'].mean(), inplace=True)\n",
    "df_merge_all_tables_complete['max_sea_level_pressure_in'].fillna(df_merge_all_tables_complete['max_sea_level_pressure_in'].mean(), inplace=True)\n",
    "df_merge_all_tables_complete['mean_sea_level_pressure_in'].fillna(df_merge_all_tables_complete['mean_sea_level_pressure_in'].mean(), inplace=True)\n",
    "df_merge_all_tables_complete['min_sea_level_pressure_in'].fillna(df_merge_all_tables_complete['min_sea_level_pressure_in'].mean(), inplace=True)\n",
    "df_merge_all_tables_complete['max_visibility_miles'].fillna(df_merge_all_tables_complete['max_visibility_miles'].mean(), inplace=True)\n",
    "df_merge_all_tables_complete['mean_visibility_miles'].fillna(df_merge_all_tables_complete['mean_visibility_miles'].mean(), inplace=True)\n",
    "df_merge_all_tables_complete['min_visibility_miles'].fillna(df_merge_all_tables_complete['min_visibility_miles'].mean(), inplace=True)\n",
    "df_merge_all_tables_complete['max_wind_speed_mph'].fillna(df_merge_all_tables_complete['max_wind_speed_mph'].mean(), inplace=True)\n",
    "df_merge_all_tables_complete['mean_wind_speed_mph'].fillna(df_merge_all_tables_complete['mean_wind_speed_mph'].mean(), inplace=True)\n",
    "df_merge_all_tables_complete['max_gust_speed_mph'].fillna(df_merge_all_tables_complete['max_gust_speed_mph'].mean(), inplace=True)\n",
    "df_merge_all_tables_complete['cloud_cover'].fillna(df_merge_all_tables_complete['cloud_cover'].mean(), inplace=True)\n",
    "df_merge_all_tables_complete['wind_dir_degrees'].fillna(df_merge_all_tables_complete['wind_dir_degrees'].mean(), inplace=True)\n",
    "df_merge_all_tables_complete.isnull().sum()"
   ]
  },
  {
   "cell_type": "code",
   "execution_count": null,
   "metadata": {
    "collapsed": true
   },
   "outputs": [],
   "source": [
    "df_merge_all_tables_complete.rename(columns={'date':'date_weather'},inplace=True)"
   ]
  },
  {
   "cell_type": "code",
   "execution_count": null,
   "metadata": {
    "collapsed": true
   },
   "outputs": [],
   "source": [
    "df_merge_all_tables_complete.info()"
   ]
  },
  {
   "cell_type": "code",
   "execution_count": null,
   "metadata": {
    "collapsed": true
   },
   "outputs": [],
   "source": [
    "# guardando essa tabela com todos os dados possiveis\n",
    "df_merge_all_tables_complete.to_csv('complete_data_project.csv')"
   ]
  },
  {
   "cell_type": "markdown",
   "metadata": {},
   "source": [
    "***<br/>Ufaaaa agora acabou a limpeza, agora é ajustar as colunas de datas que vão desconfigurar e <br/>\n",
    "fazer as analises com gráficos<br/><br/>***\n"
   ]
  },
  {
   "cell_type": "code",
   "execution_count": 17,
   "metadata": {
    "collapsed": true
   },
   "outputs": [],
   "source": [
    "# Importa todas as bibliotecas necessárias\n",
    "%matplotlib inline\n",
    "import csv\n",
    "from datetime import datetime\n",
    "import numpy as np\n",
    "import pandas as pd\n",
    "from babs_datacheck import question_3\n",
    "from babs_visualizations import usage_stats, usage_plot\n",
    "from IPython.display import display\n",
    "import seaborn as sns\n",
    "import matplotlib.pyplot as plt"
   ]
  },
  {
   "cell_type": "code",
   "execution_count": null,
   "metadata": {
    "collapsed": true,
    "scrolled": false
   },
   "outputs": [],
   "source": [
    "# cria um dataFrame do arquivo que contem todos os dados e modifica as colunas de data dele para \n",
    "# ficar com o tipo data e tiro a coluna Unnamed: 0 que foi criada automaticamente e não tem serventia \n",
    "\n",
    "df_complete_data = pd.read_csv('complete_data_project.csv',low_memory=False)\n",
    "df_complete_data.drop('Unnamed: 0',axis=1,inplace=True)\n",
    "df_complete_data['start_date'] = pd.to_datetime(df_complete_data['start_date'],format=\"%Y/%m/%d\")\n",
    "df_complete_data['end_date'] = pd.to_datetime(df_complete_data['end_date'],format=\"%Y/%m/%d %H:%M\")\n",
    "df_complete_data['installation'] = pd.to_datetime(df_complete_data['end_date'],format=\"%Y/%m/%d %H:%M\")\n",
    "df_complete_data['date_weather'] = pd.to_datetime(df_complete_data['date_weather'],format=\"%Y/%m/%d %H:%M\")\n",
    "\n",
    "#df_complete_data.info()\n",
    "df_complete_data.headad(6)"
   ]
  },
  {
   "cell_type": "code",
   "execution_count": null,
   "metadata": {
    "collapsed": true
   },
   "outputs": [],
   "source": [
    "print(\"Total de dados de complete_data_project.csv = \",len(df_complete_data))\n",
    "print(\"Dados duplicados complete_data_project.csv = \",df_complete_data.duplicated().sum())"
   ]
  },
  {
   "cell_type": "code",
   "execution_count": null,
   "metadata": {
    "collapsed": true
   },
   "outputs": [],
   "source": [
    "df_complete_data.drop_duplicates(keep='last',inplace=True)\n",
    "print(\"Total de dados de complete_data_project.csv = \",len(df_complete_data))\n",
    "print(\"Dados duplicados complete_data_project.csv = \",df_complete_data.duplicated().sum())"
   ]
  },
  {
   "cell_type": "code",
   "execution_count": null,
   "metadata": {
    "collapsed": true
   },
   "outputs": [],
   "source": [
    "df_complete_data.info()"
   ]
  },
  {
   "cell_type": "code",
   "execution_count": null,
   "metadata": {
    "collapsed": true
   },
   "outputs": [],
   "source": [
    "df_complete_data.to_csv('complete_not_duplicated_data_project.csv')"
   ]
  },
  {
   "cell_type": "markdown",
   "metadata": {},
   "source": [
    "***<br/>Agora é só os gráficos<br/><br/>***"
   ]
  },
  {
   "cell_type": "code",
   "execution_count": 18,
   "metadata": {
    "scrolled": true
   },
   "outputs": [
    {
     "name": "stdout",
     "output_type": "stream",
     "text": [
      "<class 'pandas.core.frame.DataFrame'>\n",
      "RangeIndex: 731665 entries, 0 to 731664\n",
      "Data columns (total 42 columns):\n",
      "trip_id                       731665 non-null int64\n",
      "duration                      731665 non-null float64\n",
      "start_date                    731665 non-null object\n",
      "start_station                 731665 non-null object\n",
      "start_terminal                731665 non-null int64\n",
      "end_date                      731665 non-null object\n",
      "end_station                   731665 non-null object\n",
      "end_terminal                  731665 non-null int64\n",
      "bike_#                        731665 non-null int64\n",
      "subscriber_type               731665 non-null object\n",
      "zip_code_subscriber           724691 non-null object\n",
      "date_weather                  325 non-null object\n",
      "max_temperature_f             731665 non-null float64\n",
      "mean_temperature_f            731665 non-null float64\n",
      "min_temperature_f             731665 non-null float64\n",
      "max_dew_point_f               731665 non-null float64\n",
      "mean_dew_point_f              731665 non-null float64\n",
      "min_dew_point_f               0 non-null float64\n",
      "max_humidity                  731665 non-null float64\n",
      "mean_humidity                 731665 non-null float64\n",
      "min_humidity                  731665 non-null float64\n",
      "max_sea_level_pressure_in     731665 non-null float64\n",
      "mean_sea_level_pressure_in    731665 non-null float64\n",
      "min_sea_level_pressure_in     731665 non-null float64\n",
      "max_visibility_miles          731665 non-null float64\n",
      "mean_visibility_miles         731665 non-null float64\n",
      "min_visibility_miles          731665 non-null float64\n",
      "max_wind_speed_mph            731665 non-null float64\n",
      "mean_wind_speed_mph           731665 non-null float64\n",
      "max_gust_speed_mph            731665 non-null float64\n",
      "precipitation_in              325 non-null float64\n",
      "cloud_cover                   731665 non-null float64\n",
      "weather_events                40 non-null object\n",
      "wind_dir_degrees              731665 non-null float64\n",
      "zip_code                      325 non-null float64\n",
      "station_id                    731665 non-null int64\n",
      "name                          731665 non-null object\n",
      "lat                           731665 non-null float64\n",
      "long                          731665 non-null float64\n",
      "dockcount                     731665 non-null int64\n",
      "landmark                      731665 non-null object\n",
      "installation                  731665 non-null object\n",
      "dtypes: float64(25), int64(6), object(11)\n",
      "memory usage: 234.5+ MB\n"
     ]
    }
   ],
   "source": [
    "# Tirei os dados duplicados\n",
    "df_complete_data_not_duplicated = pd.read_csv('complete_not_duplicated_data_project.csv',low_memory=False)\n",
    "df_complete_data_not_duplicated.drop(['Unnamed: 0'],axis=1,inplace=True)\n",
    "df_complete_data_not_duplicated.info()"
   ]
  },
  {
   "cell_type": "code",
   "execution_count": 19,
   "metadata": {
    "collapsed": true
   },
   "outputs": [],
   "source": [
    "#df_complete_data_not_duplicated.drop('Unnamed: 0',axis=1,inplace=True)\n",
    "df_complete_data_not_duplicated['start_date'] = pd.to_datetime(df_complete_data_not_duplicated['start_date'],format=\"%Y/%m/%d %H:%M\")\n",
    "df_complete_data_not_duplicated['end_date'] = pd.to_datetime(df_complete_data_not_duplicated['end_date'],format=\"%Y/%m/%d %H:%M\")\n",
    "df_complete_data_not_duplicated['installation'] = pd.to_datetime(df_complete_data_not_duplicated['end_date'],format=\"%Y/%m/%d %H:%M\")\n",
    "df_complete_data_not_duplicated['date_weather'] = pd.to_datetime(df_complete_data_not_duplicated['date_weather'],format=\"%Y/%m/%d %H:%M\")"
   ]
  },
  {
   "cell_type": "code",
   "execution_count": 20,
   "metadata": {},
   "outputs": [
    {
     "data": {
      "image/png": "[encoded data removed]",
      "text/plain": [
       "<matplotlib.figure.Figure at 0x7f6c5b90dc88>"
      ]
     },
     "metadata": {},
     "output_type": "display_data"
    }
   ],
   "source": [
    "# Quantidade de assinantes e não assinantes \n",
    "df_complete_data_not_duplicated['subscriber_type'].value_counts().plot(kind='bar')\n",
    "plt.xlabel(\"Tipos de clientes\")\n",
    "plt.ylabel(\"Quantidade\")\n",
    "plt.show()"
   ]
  },
  {
   "cell_type": "code",
   "execution_count": 21,
   "metadata": {},
   "outputs": [
    {
     "data": {
      "text/plain": [
       "0"
      ]
     },
     "execution_count": 21,
     "metadata": {},
     "output_type": "execute_result"
    }
   ],
   "source": [
    "df_complete_data_not_duplicated.duplicated().sum()"
   ]
  },
  {
   "cell_type": "code",
   "execution_count": 22,
   "metadata": {},
   "outputs": [
    {
     "name": "stdout",
     "output_type": "stream",
     "text": [
      "<class 'pandas.core.frame.DataFrame'>\n",
      "RangeIndex: 731665 entries, 0 to 731664\n",
      "Data columns (total 42 columns):\n",
      "trip_id                       731665 non-null int64\n",
      "duration                      731665 non-null float64\n",
      "start_date                    731665 non-null datetime64[ns]\n",
      "start_station                 731665 non-null object\n",
      "start_terminal                731665 non-null int64\n",
      "end_date                      731665 non-null datetime64[ns]\n",
      "end_station                   731665 non-null object\n",
      "end_terminal                  731665 non-null int64\n",
      "bike_#                        731665 non-null int64\n",
      "subscriber_type               731665 non-null object\n",
      "zip_code_subscriber           724691 non-null object\n",
      "date_weather                  325 non-null datetime64[ns]\n",
      "max_temperature_f             731665 non-null float64\n",
      "mean_temperature_f            731665 non-null float64\n",
      "min_temperature_f             731665 non-null float64\n",
      "max_dew_point_f               731665 non-null float64\n",
      "mean_dew_point_f              731665 non-null float64\n",
      "min_dew_point_f               0 non-null float64\n",
      "max_humidity                  731665 non-null float64\n",
      "mean_humidity                 731665 non-null float64\n",
      "min_humidity                  731665 non-null float64\n",
      "max_sea_level_pressure_in     731665 non-null float64\n",
      "mean_sea_level_pressure_in    731665 non-null float64\n",
      "min_sea_level_pressure_in     731665 non-null float64\n",
      "max_visibility_miles          731665 non-null float64\n",
      "mean_visibility_miles         731665 non-null float64\n",
      "min_visibility_miles          731665 non-null float64\n",
      "max_wind_speed_mph            731665 non-null float64\n",
      "mean_wind_speed_mph           731665 non-null float64\n",
      "max_gust_speed_mph            731665 non-null float64\n",
      "precipitation_in              325 non-null float64\n",
      "cloud_cover                   731665 non-null float64\n",
      "weather_events                40 non-null object\n",
      "wind_dir_degrees              731665 non-null float64\n",
      "zip_code                      325 non-null float64\n",
      "station_id                    731665 non-null int64\n",
      "name                          731665 non-null object\n",
      "lat                           731665 non-null float64\n",
      "long                          731665 non-null float64\n",
      "dockcount                     731665 non-null int64\n",
      "landmark                      731665 non-null object\n",
      "installation                  731665 non-null datetime64[ns]\n",
      "dtypes: datetime64[ns](4), float64(25), int64(6), object(7)\n",
      "memory usage: 234.5+ MB\n"
     ]
    }
   ],
   "source": [
    "df_complete_data_not_duplicated.info()"
   ]
  },
  {
   "cell_type": "code",
   "execution_count": 23,
   "metadata": {},
   "outputs": [
    {
     "name": "stdout",
     "output_type": "stream",
     "text": [
      "14.873473515885003\n",
      "85.12652648411499\n"
     ]
    }
   ],
   "source": [
    "Customer = 'Customer'\n",
    "df_Customer = df_complete_data_not_duplicated.query('subscriber_type == @Customer')\n",
    "count_total = len(df_complete_data_not_duplicated)\n",
    "count_Customer = len(df_Customer)\n",
    "count_Subscriber = count_total - count_Customer\n",
    "\n",
    "percent_Customer = 100*(count_Customer/count_total)\n",
    "percent_Subscriber = 100*(count_Subscriber/count_total)\n",
    "print(percent_Customer)\n",
    "print(percent_Subscriber)\n",
    "\n",
    "list_percent = [percent_Customer,percent_Subscriber]\n",
    "list_labels = [\"Customer\",\"Subscriber\"]"
   ]
  },
  {
   "cell_type": "code",
   "execution_count": 25,
   "metadata": {},
   "outputs": [
    {
     "name": "stdout",
     "output_type": "stream",
     "text": [
      "30\n",
      "94\n"
     ]
    }
   ],
   "source": [
    "# comparar as estações que passaram por mudanças de localização, \n",
    "# a idéia é comparar os meses de mudança com os mesmos meses em outro ano quando estavam no lugar certo\n",
    "de = '2014/09/01'\n",
    "ate = '2014/10/22'\n",
    "station_id = 23\n",
    "\n",
    "station_23 = df_complete_data_not_duplicated.query('start_date >= @de and start_date <= @ate and station_id == @station_id')\n",
    "print(len(station_23))\n",
    "\n",
    "de_2 = '2013/09/01'\n",
    "ate_2 = '2013/10/22'\n",
    "\n",
    "station_23_antes = df_complete_data_not_duplicated.query('start_date >= @de_2 and start_date <= @ate_2 and station_id == @station_id')\n",
    "print(len(station_23_antes))\n",
    "\n",
    "lista_plotar = [station_23_antes,station_23]"
   ]
  },
  {
   "cell_type": "code",
   "execution_count": 48,
   "metadata": {},
   "outputs": [
    {
     "data": {
      "image/png": "[encoded data removed]",
      "text/plain": [
       "<matplotlib.figure.Figure at 0x7f6c600542e8>"
      ]
     },
     "metadata": {},
     "output_type": "display_data"
    }
   ],
   "source": [
    "plt.pie(list_percent, labels=list_labels, autopct='%1.2f%%')\n",
    "plt.title('Porcentagem dos tipos de clientes')\n",
    "plt.show()"
   ]
  },
  {
   "cell_type": "code",
   "execution_count": 27,
   "metadata": {},
   "outputs": [
    {
     "data": {
      "text/html": [
       "<div>\n",
       "<style>\n",
       "    .dataframe thead tr:only-child th {\n",
       "        text-align: right;\n",
       "    }\n",
       "\n",
       "    .dataframe thead th {\n",
       "        text-align: left;\n",
       "    }\n",
       "\n",
       "    .dataframe tbody tr th {\n",
       "        vertical-align: top;\n",
       "    }\n",
       "</style>\n",
       "<table border=\"1\" class=\"dataframe\">\n",
       "  <thead>\n",
       "    <tr style=\"text-align: right;\">\n",
       "      <th></th>\n",
       "      <th>trip_id</th>\n",
       "      <th>duration</th>\n",
       "      <th>start_date</th>\n",
       "      <th>start_station</th>\n",
       "      <th>start_terminal</th>\n",
       "      <th>end_date</th>\n",
       "      <th>end_station</th>\n",
       "      <th>end_terminal</th>\n",
       "      <th>bike_#</th>\n",
       "      <th>subscriber_type</th>\n",
       "      <th>...</th>\n",
       "      <th>weather_events</th>\n",
       "      <th>wind_dir_degrees</th>\n",
       "      <th>zip_code</th>\n",
       "      <th>station_id</th>\n",
       "      <th>name</th>\n",
       "      <th>lat</th>\n",
       "      <th>long</th>\n",
       "      <th>dockcount</th>\n",
       "      <th>landmark</th>\n",
       "      <th>installation</th>\n",
       "    </tr>\n",
       "  </thead>\n",
       "  <tbody>\n",
       "    <tr>\n",
       "      <th>660527</th>\n",
       "      <td>4766</td>\n",
       "      <td>5.25</td>\n",
       "      <td>2013-08-29 17:05:00</td>\n",
       "      <td>San Mateo County Center</td>\n",
       "      <td>23</td>\n",
       "      <td>2013-08-29 17:10:00</td>\n",
       "      <td>San Mateo County Center</td>\n",
       "      <td>23</td>\n",
       "      <td>227</td>\n",
       "      <td>Subscriber</td>\n",
       "      <td>...</td>\n",
       "      <td>NaN</td>\n",
       "      <td>278.904274</td>\n",
       "      <td>NaN</td>\n",
       "      <td>23</td>\n",
       "      <td>San Mateo County Center</td>\n",
       "      <td>37.488501</td>\n",
       "      <td>-122.231061</td>\n",
       "      <td>15</td>\n",
       "      <td>Redwood City</td>\n",
       "      <td>2013-08-29 17:10:00</td>\n",
       "    </tr>\n",
       "  </tbody>\n",
       "</table>\n",
       "<p>1 rows × 42 columns</p>\n",
       "</div>"
      ],
      "text/plain": [
       "        trip_id  duration          start_date            start_station  \\\n",
       "660527     4766      5.25 2013-08-29 17:05:00  San Mateo County Center   \n",
       "\n",
       "        start_terminal            end_date              end_station  \\\n",
       "660527              23 2013-08-29 17:10:00  San Mateo County Center   \n",
       "\n",
       "        end_terminal  bike_# subscriber_type         ...          \\\n",
       "660527            23     227      Subscriber         ...           \n",
       "\n",
       "       weather_events wind_dir_degrees  zip_code  station_id  \\\n",
       "660527            NaN       278.904274       NaN          23   \n",
       "\n",
       "                           name        lat        long  dockcount  \\\n",
       "660527  San Mateo County Center  37.488501 -122.231061         15   \n",
       "\n",
       "            landmark        installation  \n",
       "660527  Redwood City 2013-08-29 17:10:00  \n",
       "\n",
       "[1 rows x 42 columns]"
      ]
     },
     "execution_count": 27,
     "metadata": {},
     "output_type": "execute_result"
    }
   ],
   "source": [
    "df_complete_data_not_duplicated.query('station_id == 23')[:1]"
   ]
  },
  {
   "cell_type": "code",
   "execution_count": 46,
   "metadata": {},
   "outputs": [
    {
     "data": {
      "image/png": "[encoded data removed]",
      "text/plain": [
       "<matplotlib.figure.Figure at 0x7f6c5fee28d0>"
      ]
     },
     "metadata": {},
     "output_type": "display_data"
    },
    {
     "data": {
      "image/png": "[encoded data removed]",
      "text/plain": [
       "<matplotlib.figure.Figure at 0x7f6c5ff61d30>"
      ]
     },
     "metadata": {},
     "output_type": "display_data"
    }
   ],
   "source": [
    "names = ['de 01/09/13 a 01/10/13', 'de 01/09/14 a 22/10/14']\n",
    "values = [94,30]\n",
    "\n",
    "plt.figure(1)\n",
    "plt.subplot(111)\n",
    "xs = [i + 0.5 for i, _ in enumerate(values)]\n",
    "plt.bar(xs, values)\n",
    "plt.title('Estação San Mateo County Center nos mêses 01/09/14 a 22/10/14 X 01/09/13 a 01/10/13')\n",
    "plt.ylabel(\"Quantidade de viagens\")\n",
    "plt.xlabel(\"Períodos de análise\")\n",
    "plt.xticks([i + 0.5 for i, _ in enumerate(names)], names)\n",
    "\n",
    "label = [\"01/09/14 a 22/10/14 em relação ao ano anterior\",\\\n",
    "         \"no período de 01/09/13 a 01/10/13 fez essa porcentagem a mais\"]\n",
    "list_percent_2 = [percent,len(station_23_antes)]\n",
    "\n",
    "plt.figure(2)\n",
    "\n",
    "plt.pie(list_percent_2, labels=label, autopct='%1.2f%%')\n",
    "plt.title('Porcentagem de queda no numero de viagens com base no período de 01/09/2013 a 01/10/2013')\n",
    "\n",
    "plt.show()"
   ]
  },
  {
   "cell_type": "code",
   "execution_count": 97,
   "metadata": {},
   "outputs": [
    {
     "data": {
      "image/png": "[encoded data removed]",
      "text/plain": [
       "<matplotlib.figure.Figure at 0x7f6c5ff69160>"
      ]
     },
     "metadata": {},
     "output_type": "display_data"
    }
   ],
   "source": [
    "a = df_complete_data_not_duplicated.groupby('bike_#')['duration'].sum()\n",
    "b = a.sort_values(ascending=False).head(10)\n",
    "\n",
    "colors = ['red','brue'] \n",
    "b.plot(kind='bar',title='Bikes com maior tempo de locação', color=colors, alpha=.8)\n",
    "plt.xlabel('Bikes',fontsize=18)\n",
    "plt.ylabel('Soma das locações')\n",
    "plt.show()"
   ]
  },
  {
   "cell_type": "code",
   "execution_count": 69,
   "metadata": {
    "scrolled": false
   },
   "outputs": [
    {
     "data": {
      "text/html": [
       "<div>\n",
       "<style>\n",
       "    .dataframe thead tr:only-child th {\n",
       "        text-align: right;\n",
       "    }\n",
       "\n",
       "    .dataframe thead th {\n",
       "        text-align: left;\n",
       "    }\n",
       "\n",
       "    .dataframe tbody tr th {\n",
       "        vertical-align: top;\n",
       "    }\n",
       "</style>\n",
       "<table border=\"1\" class=\"dataframe\">\n",
       "  <thead>\n",
       "    <tr style=\"text-align: right;\">\n",
       "      <th></th>\n",
       "      <th>trip_id</th>\n",
       "      <th>duration</th>\n",
       "      <th>start_date</th>\n",
       "      <th>start_station</th>\n",
       "      <th>start_terminal</th>\n",
       "      <th>end_date</th>\n",
       "      <th>end_station</th>\n",
       "      <th>end_terminal</th>\n",
       "      <th>bike_#</th>\n",
       "      <th>subscriber_type</th>\n",
       "      <th>...</th>\n",
       "      <th>weather_events</th>\n",
       "      <th>wind_dir_degrees</th>\n",
       "      <th>zip_code</th>\n",
       "      <th>station_id</th>\n",
       "      <th>name</th>\n",
       "      <th>lat</th>\n",
       "      <th>long</th>\n",
       "      <th>dockcount</th>\n",
       "      <th>landmark</th>\n",
       "      <th>installation</th>\n",
       "    </tr>\n",
       "  </thead>\n",
       "  <tbody>\n",
       "    <tr>\n",
       "      <th>0</th>\n",
       "      <td>4576</td>\n",
       "      <td>1.050000</td>\n",
       "      <td>2013-08-29 14:13:00</td>\n",
       "      <td>South Van Ness at Market</td>\n",
       "      <td>66</td>\n",
       "      <td>2013-08-29 14:14:00</td>\n",
       "      <td>South Van Ness at Market</td>\n",
       "      <td>66</td>\n",
       "      <td>520</td>\n",
       "      <td>Subscriber</td>\n",
       "      <td>...</td>\n",
       "      <td>NaN</td>\n",
       "      <td>278.904274</td>\n",
       "      <td>NaN</td>\n",
       "      <td>66</td>\n",
       "      <td>South Van Ness at Market</td>\n",
       "      <td>37.774814</td>\n",
       "      <td>-122.418954</td>\n",
       "      <td>19</td>\n",
       "      <td>San Francisco</td>\n",
       "      <td>2013-08-29 14:14:00</td>\n",
       "    </tr>\n",
       "    <tr>\n",
       "      <th>1</th>\n",
       "      <td>4299</td>\n",
       "      <td>1.383333</td>\n",
       "      <td>2013-08-29 12:02:00</td>\n",
       "      <td>South Van Ness at Market</td>\n",
       "      <td>66</td>\n",
       "      <td>2013-08-29 12:04:00</td>\n",
       "      <td>Market at 10th</td>\n",
       "      <td>67</td>\n",
       "      <td>319</td>\n",
       "      <td>Subscriber</td>\n",
       "      <td>...</td>\n",
       "      <td>NaN</td>\n",
       "      <td>278.904274</td>\n",
       "      <td>NaN</td>\n",
       "      <td>66</td>\n",
       "      <td>South Van Ness at Market</td>\n",
       "      <td>37.774814</td>\n",
       "      <td>-122.418954</td>\n",
       "      <td>19</td>\n",
       "      <td>San Francisco</td>\n",
       "      <td>2013-08-29 12:04:00</td>\n",
       "    </tr>\n",
       "  </tbody>\n",
       "</table>\n",
       "<p>2 rows × 42 columns</p>\n",
       "</div>"
      ],
      "text/plain": [
       "   trip_id  duration          start_date             start_station  \\\n",
       "0     4576  1.050000 2013-08-29 14:13:00  South Van Ness at Market   \n",
       "1     4299  1.383333 2013-08-29 12:02:00  South Van Ness at Market   \n",
       "\n",
       "   start_terminal            end_date               end_station  end_terminal  \\\n",
       "0              66 2013-08-29 14:14:00  South Van Ness at Market            66   \n",
       "1              66 2013-08-29 12:04:00            Market at 10th            67   \n",
       "\n",
       "   bike_# subscriber_type         ...         weather_events wind_dir_degrees  \\\n",
       "0     520      Subscriber         ...                    NaN       278.904274   \n",
       "1     319      Subscriber         ...                    NaN       278.904274   \n",
       "\n",
       "   zip_code  station_id                      name        lat        long  \\\n",
       "0       NaN          66  South Van Ness at Market  37.774814 -122.418954   \n",
       "1       NaN          66  South Van Ness at Market  37.774814 -122.418954   \n",
       "\n",
       "   dockcount       landmark        installation  \n",
       "0         19  San Francisco 2013-08-29 14:14:00  \n",
       "1         19  San Francisco 2013-08-29 12:04:00  \n",
       "\n",
       "[2 rows x 42 columns]"
      ]
     },
     "execution_count": 69,
     "metadata": {},
     "output_type": "execute_result"
    }
   ],
   "source": [
    "#df_complete_data_not_duplicated.sort_values(by=['bike_#']).groupby('bike_#')['duration'].sum()\n",
    "df_complete_data_not_duplicated.head(2)"
   ]
  },
  {
   "cell_type": "markdown",
   "metadata": {},
   "source": [
    "# Pergunta 5a\n",
    "Explore os dados e faça um gráfico que demonstre alguma particularidade dos dados:"
   ]
  },
  {
   "cell_type": "code",
   "execution_count": 47,
   "metadata": {
    "scrolled": true
   },
   "outputs": [
    {
     "data": {
      "image/png": "[encoded data removed]",
      "text/plain": [
       "<matplotlib.figure.Figure at 0x7f6c5ff6ec88>"
      ]
     },
     "metadata": {},
     "output_type": "display_data"
    },
    {
     "data": {
      "image/png": "[encoded data removed]",
      "text/plain": [
       "<matplotlib.figure.Figure at 0x7f6c5b90d390>"
      ]
     },
     "metadata": {},
     "output_type": "display_data"
    }
   ],
   "source": [
    "# Gráfico final 1\n",
    "names = ['de 01/09/13 a 01/10/13', 'de 01/09/14 a 22/10/14']\n",
    "values = [94,30]\n",
    "\n",
    "plt.figure(1)\n",
    "plt.subplot(111)\n",
    "xs = [i + 0.5 for i, _ in enumerate(values)]\n",
    "plt.bar(xs, values)\n",
    "plt.title('Estação San Mateo County Center nos mêses 01/09/14 a 22/10/14 X 01/09/13 a 01/10/13')\n",
    "plt.ylabel(\"Quantidade de viagens\")\n",
    "plt.xlabel(\"Períodos de análise\")\n",
    "plt.xticks([i + 0.5 for i, _ in enumerate(names)], names)\n",
    "\n",
    "label = [\"01/09/14 a 22/10/14 em relação ao ano anterior\",\\\n",
    "         \"no período de 01/09/13 a 01/10/13 fez essa porcentagem a mais\"]\n",
    "list_percent_2 = [percent,len(station_23_antes)]\n",
    "\n",
    "plt.figure(2)\n",
    "\n",
    "plt.pie(list_percent_2, labels=label, autopct='%1.2f%%')\n",
    "plt.title('Porcentagem de queda no numero de viagens com base no período de 01/09/2013 a 01/10/2013')\n",
    "\n",
    "plt.show()"
   ]
  },
  {
   "cell_type": "markdown",
   "metadata": {},
   "source": [
    "O que é interessante na visualização acima? Por que você a selecionou?\n",
    "\n",
    "**Answer**: <br/>O interessante é ver o quanto a mudança de localização influenciou na quantidade de viagens. <br/>\n",
    "Acredito que a mudança se deu visando almentar o numero de viagens,<br/>\n",
    "o que não aconteceu e pior houve uma queda muito grande o que é representado no gráfico de pizza mostrando a \n",
    "porcentagem de viagens feitas com base no ano de 2013."
   ]
  },
  {
   "cell_type": "markdown",
   "metadata": {},
   "source": [
    "# Pergunta 5b\n",
    "Faça um gráfico que demonstre alguma particularidade dos dados:"
   ]
  },
  {
   "cell_type": "code",
   "execution_count": 98,
   "metadata": {},
   "outputs": [
    {
     "data": {
      "image/png": "[encoded data removed]",
      "text/plain": [
       "<matplotlib.figure.Figure at 0x7f6c600facc0>"
      ]
     },
     "metadata": {},
     "output_type": "display_data"
    }
   ],
   "source": [
    "# Gráfico Final 2\n",
    "a = df_complete_data_not_duplicated.groupby('bike_#')['duration'].sum()\n",
    "b = a.sort_values(ascending=False).head(10)\n",
    "\n",
    "colors = ['red','brue'] \n",
    "b.plot(kind='bar',title='Bikes com maior tempo de locação', color=colors, alpha=.8)\n",
    "plt.xlabel('Bikes',fontsize=18)\n",
    "plt.ylabel('Soma das locações')\n",
    "plt.show()"
   ]
  },
  {
   "cell_type": "markdown",
   "metadata": {},
   "source": [
    "O que é interessante na visualização acima? Por que você a selecionou?\n",
    "\n",
    "**Answer**: <br/>É interessante ver que existem bikes que são muito mais usadas do que outras e isso concerteza significa menor vida util para as peças dessa bike, e claro que o cliente não vai gostar de que a bike quebre com ele em seu trajeto, então seria um bom ponto para a empresa prestar atenção. "
   ]
  },
  {
   "cell_type": "markdown",
   "metadata": {},
   "source": [
    "## Conclusões\n",
    "\n",
    "Parabéns pela conclusão do projeto! Esta é apenas uma amostragem do processo de análise de dados: gerando perguntas, limpando e explorando os dados. Normalmente, neste momento no processo de análise de dados, você pode querer tirar conclusões realizando um teste estatístico ou ajustando os dados a um modelo para fazer previsões. Há também muitas análises potenciais que podem ser realizadas se evoluirmos o código fornecido. Em vez de apenas olhar para o número de viagens no eixo de resultados, você pode ver quais recursos afetam coisas como a duração da viagem. Nós também não analisamos como os dados meteorológicos se encaixam no uso de bicicletas."
   ]
  },
  {
   "cell_type": "markdown",
   "metadata": {},
   "source": [
    "# Pergunta 6\n",
    "Pense em um tópico ou campo de interesse onde você gostaria de poder aplicar as técnicas da ciência dos dados. O que você gostaria de aprender com o assunto escolhido?\n",
    "\n",
    "**Responda**: <br/>    Gostaria de aplicar essas técnicas em projetos de Open Data, seria um uso muito útil dessas técnicas, e com isso gostaria de aprender a minerar e a mostrar os dados relevantes."
   ]
  },
  {
   "cell_type": "markdown",
   "metadata": {},
   "source": [
    "> **Dica**: se quisermos compartilhar os resultados de nossa análise com os outros, existe uma outra opção que não é enviar o arquivo jupyter Notebook (.ipynb). Também podemos exportar a saída do Notebook de uma forma que pode ser aberto mesmo para aqueles sem o Python instalado. No menu **File** na parte superior esquerda, vá para o submenu **Download as**. Você pode então escolher um formato diferente que pode ser visto de forma mais geral, como HTML (.html) ou PDF (.pdf). Você pode precisar de pacotes adicionais ou software para executar essas exportações."
   ]
  }
 ],
 "metadata": {
  "anaconda-cloud": {},
  "kernelspec": {
   "display_name": "Python 3",
   "language": "python",
   "name": "python3"
  },
  "language_info": {
   "codemirror_mode": {
    "name": "ipython",
    "version": 3
   },
   "file_extension": ".py",
   "mimetype": "text/x-python",
   "name": "python",
   "nbconvert_exporter": "python",
   "pygments_lexer": "ipython3",
   "version": "3.6.3"
  }
 },
 "nbformat": 4,
 "nbformat_minor": 1
}
